{
 "cells": [
  {
   "cell_type": "code",
   "execution_count": 23,
   "id": "cc222ee6",
   "metadata": {
    "tags": []
   },
   "outputs": [],
   "source": [
    "# import csv\n",
    "import requests\n",
    "from bs4 import BeautifulSoup\n",
    "import pandas as pd\n",
    "import ipywidgets as widgets\n",
    "import matplotlib.pyplot as plt"
   ]
  },
  {
   "cell_type": "code",
   "execution_count": 3,
   "id": "164f5a8f",
   "metadata": {
    "tags": []
   },
   "outputs": [],
   "source": [
    "FILE_PATH_PUBLICATIONS = 'publications.csv'\n",
    "FILE_PATH_PEOPLE = 'people.csv'"
   ]
  },
  {
   "cell_type": "markdown",
   "id": "6c43c318",
   "metadata": {},
   "source": [
    "## Adding New Publications\n",
    "\n",
    "Adding publications can be done by calling the update_publications(doi, main_author) function. The DOI should be in the format 10.1007/s11616-005-0142-4 (without https etc.). The main_author only has to be specified if for some reason it is not the first named author for our purposes. Otherwise it will automatically be determined."
   ]
  },
  {
   "cell_type": "code",
   "execution_count": 4,
   "id": "4e104e69",
   "metadata": {
    "tags": []
   },
   "outputs": [],
   "source": [
    "def update_publications(doi, main_author=None):\n",
    "    # Send a request to the CrossRef API to get publication information\n",
    "    response = requests.get(f'https://api.crossref.org/works/{doi}')\n",
    "    data = response.json()\n",
    "    \n",
    "    # Parse the response to get the publication information\n",
    "    title = data['message']['title'][0]\n",
    "    authors = data['message']['author']\n",
    "    if main_author is not None:\n",
    "        # Set the main author to the one specified in the parameter\n",
    "        author = next((a for a in authors if f\"{a['given']} {a['family']}\" == main_author), None)\n",
    "        if author is None:\n",
    "            raise ValueError(f\"Main author '{main_author}' not found in the publication's author list.\")\n",
    "    else:\n",
    "        # Assume the first named author is the main author\n",
    "        author = authors[0]\n",
    "    main_author_name = f\"{author['given']} {author['family']}\"\n",
    "    year = data['message']['created']['date-parts'][0][0]\n",
    "    outlet = data['message']['container-title'][0]\n",
    "    \n",
    "    # Concatenate the authors' names into a comma-separated string\n",
    "    author_names = \", \".join([f\"{a['given']} {a['family']}\" for a in authors])\n",
    "    \n",
    "    # Open the CSV file for appending\n",
    "    with open(FILE_PATH_PUBLICATIONS, 'a', newline='') as csvfile:\n",
    "        writer = csv.writer(csvfile)\n",
    "        \n",
    "        # Check if the publication already exists in the CSV file\n",
    "        with open(FILE_PATH_PUBLICATIONS, 'r') as checkfile:\n",
    "            reader = csv.reader(checkfile)\n",
    "            for row in reader:\n",
    "                if doi in row:\n",
    "                    return # Publication already exists in the CSV file\n",
    "        \n",
    "        # Add the publication information to the CSV file\n",
    "        writer.writerow([doi, title, main_author_name, author_names, year, outlet])\n",
    "    "
   ]
  },
  {
   "cell_type": "markdown",
   "id": "31e8bd70",
   "metadata": {},
   "source": [
    "## Adding People\n",
    "\n",
    "Adding people can be done by calling the update_people(name, role, university, institute, gender, status) function."
   ]
  },
  {
   "cell_type": "code",
   "execution_count": 5,
   "id": "4cb2d8d6",
   "metadata": {
    "tags": []
   },
   "outputs": [],
   "source": [
    "def update_people(name, role, university, institute, gender, status):\n",
    "    # Check if the person is already in the CSV file\n",
    "    with open(FILE_PATH_PEOPLE, 'r', newline='') as csvfile:\n",
    "        reader = csv.DictReader(csvfile)\n",
    "        for row in reader:\n",
    "            if row['Name'] == name:\n",
    "                print(f'{name} is already in the file.')\n",
    "                return\n",
    "        \n",
    "    # Add the person's information to the CSV file\n",
    "    with open(FILE_PATH_PEOPLE, 'a', newline='') as csvfile:\n",
    "        writer = csv.writer(csvfile)\n",
    "        \n",
    "        # Add a new row to the CSV file\n",
    "        writer.writerow([name, role, university, institute, gender, status])\n",
    "        \n",
    "        print(f'{name} has been added to the file.')"
   ]
  },
  {
   "cell_type": "markdown",
   "id": "b1421bf4",
   "metadata": {},
   "source": [
    "## Normalize Text\n",
    "\n",
    "It makes sense to run this after adding new Publications or names to handle Umlauts and second names."
   ]
  },
  {
   "cell_type": "code",
   "execution_count": 5,
   "id": "09f6ab80",
   "metadata": {
    "tags": []
   },
   "outputs": [],
   "source": [
    "# Normalize Names\n",
    "\n",
    "# Load the CSV file into a DataFrame\n",
    "df_pub = pd.read_csv(FILE_PATH_PUBLICATIONS, delimiter=\";\")\n",
    "df_peop = pd.read_csv(FILE_PATH_PEOPLE, delimiter=\";\")\n",
    "\n",
    "# Define the function to replace umlauts\n",
    "def replace_irregularities(s):\n",
    "    s = s.replace('ä', 'ae')\n",
    "    s = s.replace('ö', 'oe')\n",
    "    s = s.replace('ü', 'ue')\n",
    "    s = s.replace('Ä', 'Ae')\n",
    "    s = s.replace('Ö', 'Oe')\n",
    "    s = s.replace('Ü', 'Ue')\n",
    "    s = s.replace('ß', 'ss')\n",
    "    s = s.replace('Michael T. Knierim', 'Michael Knierim')\n",
    "    s = s.replace('Michael Thomas Knierim', 'Michael Knierim')\n",
    "    s = s.replace('Lorenzo Del Puppo', 'Lorenzo del Puppo')\n",
    "    s = s.replace('Lorenzo Puppo', 'Lorenzo del Puppo')\n",
    "    return s\n",
    "\n",
    "# Apply the function to Dataframes\n",
    "df_pub['main_author_name'] = df_pub['main_author_name'].apply(replace_irregularities)\n",
    "df_pub['author_names'] = df_pub['author_names'].apply(replace_irregularities)\n",
    "\n",
    "df_peop['team'] = df_peop['team'].apply(replace_irregularities)\n",
    "df_peop['last_name'] = df_peop['last_name'].apply(replace_irregularities)\n",
    "df_peop['name'] = df_peop['name'].apply(replace_irregularities)\n",
    "\n",
    "\n",
    "# Save the updated DataFrame back to a CSV file\n",
    "df_pub.to_csv(FILE_PATH_PUBLICATIONS, index=False, sep=';')\n",
    "df_peop.to_csv(FILE_PATH_PEOPLE, index=False, sep=';')"
   ]
  },
  {
   "cell_type": "markdown",
   "id": "0a0c573b",
   "metadata": {},
   "source": [
    "## Update Publication Metrics\n",
    "\n",
    "This is to update the counts of publications per member with the update_publications_count() function. The update_publication_details function calculates the multi-KD2 Variable and the Cross-Research-Group Variable. #\n",
    "\n",
    "They are is split from the update_publications and update_people function and has to be done manually so that you can still add publications or people by hand in excel if you want so."
   ]
  },
  {
   "cell_type": "code",
   "execution_count": 6,
   "id": "e9f958a9",
   "metadata": {
    "tags": []
   },
   "outputs": [],
   "source": [
    "def update_publications_count():\n",
    "    # Load the data\n",
    "    people_df = pd.read_csv('people.csv', delimiter=';')\n",
    "    publications_df = pd.read_csv('publications.csv', delimiter=';')\n",
    "\n",
    "    # Count the number of publications for each person\n",
    "    publications_count = publications_df['main_author_name'].value_counts()\n",
    "\n",
    "    # Update the people dataframe with the publications count\n",
    "    people_df['publications'] = people_df['name'].apply(lambda x: publications_count.get(x, 0))\n",
    "\n",
    "    # Count the number of occurrences of each last name in the publications dataframe\n",
    "    author_names = publications_df['author_names'].str.split(',')\n",
    "    author_names = author_names.explode()\n",
    "    author_last_names = author_names.str.split().str[-1]\n",
    "    last_name_counts = author_last_names.value_counts()\n",
    "\n",
    "    # Update the people dataframe with the last name counts\n",
    "    people_df['features'] = people_df['last_name'].apply(lambda x: last_name_counts.get(x, 0))\n",
    "\n",
    "    # Save the updated dataframe to file\n",
    "    people_df.to_csv('people.csv', index=False, sep=';')"
   ]
  },
  {
   "cell_type": "code",
   "execution_count": 7,
   "id": "aba7d0e8",
   "metadata": {
    "tags": []
   },
   "outputs": [],
   "source": [
    "def update_publications_details():\n",
    "    ### Update Multi-KD2-Column\n",
    "    \n",
    "    # Load the data\n",
    "    publications_df = pd.read_csv(FILE_PATH_PUBLICATIONS, delimiter=';')\n",
    "    people_df = pd.read_csv(FILE_PATH_PEOPLE, delimiter=';')\n",
    "\n",
    "    # Create a dictionary of last names and counts\n",
    "    last_name_counts = dict(people_df['last_name'].value_counts())\n",
    "\n",
    "    # Create a dictionary of author names and counts\n",
    "    author_name_counts = dict(publications_df['author_names'].value_counts())\n",
    "\n",
    "    # Count the number of times a person's last name appears in the author names column\n",
    "    publications_df['multi_kd2'] = publications_df['author_names'].str.split(',').apply(lambda x: sum([1 for name in x if name.split()[-1] in last_name_counts]))\n",
    "\n",
    "    # Save the updated data\n",
    "    publications_df.to_csv(FILE_PATH_PUBLICATIONS, sep=';', index=False)\n",
    "        \n",
    "    ### Update Cross-Team Column\n",
    "    \n",
    "    # Load the data\n",
    "    pub_df = pd.read_csv(FILE_PATH_PUBLICATIONS, delimiter=';')\n",
    "    people_df = pd.read_csv(FILE_PATH_PEOPLE, delimiter=';')\n",
    "\n",
    "    # Create a dictionary to store the teams for each publication\n",
    "    pub_to_teams = {pub_id: set() for pub_id in pub_df['id'].unique()}\n",
    "\n",
    "    for _, person in people_df.iterrows():\n",
    "        last_name = person['last_name']\n",
    "        teams = person['team'].split(',')\n",
    "        matching_pubs = pub_df[pub_df['author_names'].str.contains(last_name, na=False)]\n",
    "        for pub_id in matching_pubs['id']:\n",
    "            pub_to_teams[pub_id].update(teams)\n",
    "\n",
    "    for key in pub_to_teams:\n",
    "        pub_to_teams[key] = set(pub_to_teams[key])\n",
    "\n",
    "    pub_df['cross_team_kd2'] = pub_df['id'].map(lambda x: len(pub_to_teams[x])).fillna(0).astype(int)\n",
    "    \n",
    "    # Save the updated data\n",
    "    pub_df.to_csv(FILE_PATH_PUBLICATIONS, sep=';', index=False)"
   ]
  },
  {
   "cell_type": "code",
   "execution_count": 10,
   "id": "feef939d-0adf-405a-95f5-e901e684dc35",
   "metadata": {
    "tags": []
   },
   "outputs": [],
   "source": [
    "update_publications_count()\n",
    "update_publications_details()"
   ]
  },
  {
   "cell_type": "markdown",
   "id": "af238fad",
   "metadata": {},
   "source": [
    "## Visualization"
   ]
  },
  {
   "cell_type": "code",
   "execution_count": 34,
   "id": "8333971b",
   "metadata": {
    "tags": []
   },
   "outputs": [
    {
     "data": {
      "image/png": "[encoded data removed]",
      "text/plain": [
       "<Figure size 432x288 with 1 Axes>"
      ]
     },
     "metadata": {
      "needs_background": "light"
     },
     "output_type": "display_data"
    },
    {
     "data": {
      "image/png": "[encoded data removed]",
      "text/plain": [
       "<Figure size 432x288 with 1 Axes>"
      ]
     },
     "metadata": {
      "needs_background": "light"
     },
     "output_type": "display_data"
    },
    {
     "data": {
      "image/png": "[encoded data removed]",
      "text/plain": [
       "<Figure size 432x288 with 1 Axes>"
      ]
     },
     "metadata": {
      "needs_background": "light"
     },
     "output_type": "display_data"
    },
    {
     "data": {
      "image/png": "[encoded data removed]",
      "text/plain": [
       "<Figure size 432x288 with 1 Axes>"
      ]
     },
     "metadata": {
      "needs_background": "light"
     },
     "output_type": "display_data"
    },
    {
     "data": {
      "image/png": "[encoded data removed]",
      "text/plain": [
       "<Figure size 432x288 with 1 Axes>"
      ]
     },
     "metadata": {
      "needs_background": "light"
     },
     "output_type": "display_data"
    },
    {
     "name": "stdout",
     "output_type": "stream",
     "text": [
      "outlet_type\n",
      "Conference    15\n",
      "Journal        6\n",
      "dtype: int64\n",
      "outlet_type\n",
      "Book           1\n",
      "Conference    29\n",
      "Journal        8\n",
      "dtype: int64\n"
     ]
    }
   ],
   "source": [
    "# Publication Types\n",
    "import matplotlib.pyplot as plt\n",
    "\n",
    "publications_df = pd.read_csv(FILE_PATH_PUBLICATIONS, delimiter=';')\n",
    "people_df = pd.read_csv(FILE_PATH_PEOPLE, delimiter=';')\n",
    "\n",
    "# Get the counts for each outlet type\n",
    "journal_count = publications_df['outlet_type'].value_counts()['Journal']\n",
    "conference_count = publications_df['outlet_type'].value_counts()['Conference']\n",
    "\n",
    "# Create a bar chart\n",
    "plt.bar(['Journal', 'Conference'], [journal_count, conference_count])\n",
    "plt.xlabel('Outlet Type')\n",
    "plt.ylabel('Number of Publications')\n",
    "plt.title('In which Outlet Types did we publish?')\n",
    "plt.show()\n",
    "\n",
    "\n",
    "# group by multi_kd2 and count publications\n",
    "multi_kd2_counts = publications_df.groupby('multi_kd2').size().reset_index(name='count')\n",
    "\n",
    "# plot bar chart\n",
    "plt.bar(multi_kd2_counts['multi_kd2'], multi_kd2_counts['count'])\n",
    "plt.xlabel('Number of KD2 Members')\n",
    "plt.ylabel('Number of Publications')\n",
    "plt.title('How many KD2 Members work typically together?')\n",
    "plt.show()\n",
    "\n",
    "\n",
    "# group by cross_team_kd2 variable and count number of occurrences\n",
    "counts = publications_df.groupby(\"cross_team_kd2\")[\"id\"].count()\n",
    "\n",
    "# create bar chart\n",
    "plt.bar(counts.index, counts.values)\n",
    "\n",
    "# add axis labels and title\n",
    "plt.xlabel(\"Number of Research Groups involved\")\n",
    "plt.ylabel(\"Number of Publications\")\n",
    "plt.title(\"Publications in collaboration across KD2 Research Groups\")\n",
    "\n",
    "# Set the x-axis ticks to show only 1, 2, and 3\n",
    "plt.xticks([1, 2, 3])\n",
    "\n",
    "# display plot\n",
    "plt.show()\n",
    "\n",
    "\n",
    "# Filter for members with \"Kollegiat:in\"\n",
    "kollegiat_df = people_df[people_df['group'] == 'Kollegiat:in']\n",
    "\n",
    "# Create a new DataFrame with the total number of publications and features for each member\n",
    "kollegiat_pubs_feat = kollegiat_df.groupby('last_name').agg({'publications': 'sum', 'features': 'sum'})\n",
    "\n",
    "# Sort the DataFrame by the total number of publications\n",
    "kollegiat_pubs_feat = kollegiat_pubs_feat.sort_values('publications', ascending=False)\n",
    "\n",
    "# Create a stacked bar chart\n",
    "kollegiat_pubs_feat.plot(kind='bar', stacked=True)\n",
    "\n",
    "# Set the title and axis labels\n",
    "plt.title('Number of publications and features per Kollegiat:in')\n",
    "plt.xlabel('Kollegiat:in')\n",
    "plt.ylabel('Number')\n",
    "\n",
    "# Show the plot\n",
    "plt.show()\n",
    "\n",
    "\n",
    "# Filter for members with \"Associate\"\n",
    "associate_df = people_df[people_df['group'] == 'Associate']\n",
    "\n",
    "# Create a new DataFrame with the total number of publications and features for each member\n",
    "associate_pubs_feat = associate_df.groupby('last_name').agg({'publications': 'sum', 'features': 'sum'})\n",
    "\n",
    "# Sort the DataFrame by the total number of publications\n",
    "associate_pubs_feat = associate_pubs_feat.sort_values('publications', ascending=False)\n",
    "\n",
    "# Create a stacked bar chart\n",
    "associate_pubs_feat.plot(kind='bar', stacked=True)\n",
    "\n",
    "# Set the title and axis labels\n",
    "plt.title('Number of publications and features per Associate')\n",
    "plt.xlabel('Associate')\n",
    "plt.ylabel('Number')\n",
    "plt.yticks(range(0, int(associate_pubs_feat.max().max())+1))\n",
    "\n",
    "# Show the plot\n",
    "plt.show()\n",
    "\n",
    "\n",
    "# read the data from the CSV file\n",
    "df = pd.read_csv('publications.csv', delimiter=';')\n",
    "\n",
    "# separate the data by semesters\n",
    "semester1 = df[df['semester'] == 'H2/22']\n",
    "semester2 = df[df['semester'].isin(['H2/22', 'H1/23'])]\n",
    "\n",
    "# count the number of publications in each semester and outlet\n",
    "semester1_counts = semester1.groupby(['outlet_type']).size()\n",
    "semester2_counts = semester2.groupby(['outlet_type']).size()\n",
    "\n",
    "print(semester1_counts)\n",
    "print(semester2_counts)"
   ]
  },
  {
   "cell_type": "markdown",
   "id": "ce40f66a-01f9-4e25-a580-9f3ab603a64e",
   "metadata": {},
   "source": [
    "## HTML Output"
   ]
  },
  {
   "cell_type": "code",
   "execution_count": 19,
   "id": "0716bab2",
   "metadata": {
    "tags": []
   },
   "outputs": [],
   "source": [
    "# Read the CSV file into a DataFrame\n",
    "df = pd.read_csv('publications.csv', delimiter = ';')\n",
    "\n",
    "# Create an empty list to hold the HTML list items\n",
    "list_items = []\n",
    "\n",
    "# Iterate over each row in the DataFrame\n",
    "for _, row in df.iterrows():\n",
    "    # Get the values for the author_names, title, year, and outlet columns\n",
    "    author_names = row['author_names']\n",
    "    title = row['title']\n",
    "    year = row['year']\n",
    "    outlet = row['outlet']\n",
    "    \n",
    "    # Create an HTML list item for the publication\n",
    "    list_item = f'<li>{author_names} ({year}). \"{title}\" {outlet} </li>'\n",
    "    \n",
    "    # Add the list item to the list of list items\n",
    "    list_items.append(list_item)\n",
    "\n",
    "# Join the list of list items into a single string\n",
    "list_html = '\\n'.join(list_items)\n",
    "\n",
    "# Create the HTML output string\n",
    "html_output = f'<ul>\\n{list_html}\\n</ul>'\n",
    "\n",
    "# Write the HTML output to a file\n",
    "with open('publications.html', 'w') as f:\n",
    "    f.write(html_output)"
   ]
  }
 ],
 "metadata": {
  "kernelspec": {
   "display_name": "Python 3",
   "language": "python",
   "name": "python3"
  },
  "language_info": {
   "codemirror_mode": {
    "name": "ipython",
    "version": 3
   },
   "file_extension": ".py",
   "mimetype": "text/x-python",
   "name": "python",
   "nbconvert_exporter": "python",
   "pygments_lexer": "ipython3",
   "version": "3.7.3"
  }
 },
 "nbformat": 4,
 "nbformat_minor": 5
}
